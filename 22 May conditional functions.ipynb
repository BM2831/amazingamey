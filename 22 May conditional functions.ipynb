{
 "cells": [
  {
   "cell_type": "code",
   "execution_count": 9,
   "id": "a0ee6f83",
   "metadata": {},
   "outputs": [
    {
     "name": "stdout",
     "output_type": "stream",
     "text": [
      "Hi bro\n"
     ]
    }
   ],
   "source": [
    "a= 10\n",
    "if a== 10 :\n",
    "    print(\"Hi bro\")"
   ]
  },
  {
   "cell_type": "code",
   "execution_count": 11,
   "id": "b844684d",
   "metadata": {},
   "outputs": [],
   "source": [
    "a= 10\n",
    "if a>5 :\n",
    "    pass"
   ]
  },
  {
   "cell_type": "markdown",
   "id": "6e831b77",
   "metadata": {},
   "source": []
  },
  {
   "cell_type": "code",
   "execution_count": 21,
   "id": "f538fc7f",
   "metadata": {},
   "outputs": [
    {
     "name": "stdout",
     "output_type": "stream",
     "text": [
      "greater number\n"
     ]
    }
   ],
   "source": [
    "a=10\n",
    "if a<8:\n",
    "    print(\"print this if condition is true\")\n",
    "else :\n",
    "    print(\"greater number\")\n"
   ]
  },
  {
   "cell_type": "code",
   "execution_count": 33,
   "id": "21f0fc9f",
   "metadata": {},
   "outputs": [
    {
     "name": "stdout",
     "output_type": "stream",
     "text": [
      "Hi Bro\n"
     ]
    }
   ],
   "source": [
    "a=11\n",
    "if a!=11 :\n",
    "    print (\"my condition is false\")\n",
    "elif a==10:\n",
    "     print(\"Print this\")\n",
    "elif a==11 :        \n",
    "    print(\"Hi Bro\")"
   ]
  },
  {
   "cell_type": "code",
   "execution_count": null,
   "id": "a97f6d94",
   "metadata": {},
   "outputs": [],
   "source": []
  },
  {
   "cell_type": "code",
   "execution_count": 43,
   "id": "f95f8851",
   "metadata": {},
   "outputs": [
    {
     "name": "stdout",
     "output_type": "stream",
     "text": [
      "500\n",
      "I wont able to buy anything with this price tag\n"
     ]
    }
   ],
   "source": [
    "price = int(input())\n",
    "if price<500 :\n",
    "    print(\"I will able to buy something\")\n",
    "if price < 400 :\n",
    "    print (\"I will able to buy a jacket\")\n",
    "elif price < 300 :\n",
    "    prnt(\"I will able to buy a shirt\")\n",
    "elif price <200 :\n",
    "    print(\"I would like to do something\")\n",
    "else : print(\"I wont able to buy anything with this price tag\")    \n",
    "    "
   ]
  },
  {
   "cell_type": "code",
   "execution_count": 61,
   "id": "8d44f65c",
   "metadata": {},
   "outputs": [
    {
     "name": "stdout",
     "output_type": "stream",
     "text": [
      "649\n",
      "Got selected in GRE\n"
     ]
    }
   ],
   "source": [
    "marks = int(input())  \n",
    "if marks > 600 :\n",
    "    print (\"Got selected in GRE\")\n",
    "elif marks >500:\n",
    "    print (\"NO GRe\")\n",
    "    print(\"got TOOEFL\")\n",
    "elif marks > 400 :\n",
    "    print (\" improve yourself\")\n",
    "else : print(\" Try something else\") "
   ]
  },
  {
   "cell_type": "code",
   "execution_count": 65,
   "id": "353a1f28",
   "metadata": {},
   "outputs": [
    {
     "name": "stdout",
     "output_type": "stream",
     "text": [
      "Enter the value 10\n",
      "The value is Positive\n"
     ]
    }
   ],
   "source": [
    "value = float(input(\"Enter the value \"))\n",
    "if value >=0:\n",
    "  if value == 0:  \n",
    "    print(\"The value is Zero\")\n",
    "  else : print (\"The value is Positive\")\n",
    " \n",
    "else : print(\"The value is negative\")\n",
    "    "
   ]
  },
  {
   "cell_type": "code",
   "execution_count": 122,
   "id": "6022ec06",
   "metadata": {},
   "outputs": [
    {
     "data": {
      "text/plain": [
       "[1, 2, 3, 4, 5, 'sudh', 234.45]"
      ]
     },
     "execution_count": 122,
     "metadata": {},
     "output_type": "execute_result"
    }
   ],
   "source": [
    "l=[1,2,3,4,5,'sudh',234.45]\n",
    "l\n"
   ]
  },
  {
   "cell_type": "code",
   "execution_count": 152,
   "id": "da23e2d5",
   "metadata": {},
   "outputs": [
    {
     "name": "stdout",
     "output_type": "stream",
     "text": [
      "1\n",
      "2\n",
      "3\n",
      "4\n",
      "5\n",
      "sudh\n",
      "234.45\n"
     ]
    }
   ],
   "source": [
    "for i in l :\n",
    "    if type(i) == int or type(i)== float:\n",
    "        print(i)\n",
    "    elif type(i) == str :\n",
    "        print(i)\n",
    "    "
   ]
  },
  {
   "cell_type": "code",
   "execution_count": null,
   "id": "e7c5237a",
   "metadata": {},
   "outputs": [],
   "source": []
  },
  {
   "cell_type": "code",
   "execution_count": null,
   "id": "efc4b818",
   "metadata": {},
   "outputs": [],
   "source": []
  }
 ],
 "metadata": {
  "kernelspec": {
   "display_name": "Python 3 (ipykernel)",
   "language": "python",
   "name": "python3"
  },
  "language_info": {
   "codemirror_mode": {
    "name": "ipython",
    "version": 3
   },
   "file_extension": ".py",
   "mimetype": "text/x-python",
   "name": "python",
   "nbconvert_exporter": "python",
   "pygments_lexer": "ipython3",
   "version": "3.9.7"
  }
 },
 "nbformat": 4,
 "nbformat_minor": 5
}
