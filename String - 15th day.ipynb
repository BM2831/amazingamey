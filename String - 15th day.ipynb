{
 "cells": [
  {
   "cell_type": "code",
   "execution_count": 2,
   "id": "aacf1b92",
   "metadata": {},
   "outputs": [],
   "source": [
    "s = \"this is My First Python programming class and i am learNING python string and its function\""
   ]
  },
  {
   "cell_type": "code",
   "execution_count": 3,
   "id": "0851377d",
   "metadata": {},
   "outputs": [
    {
     "data": {
      "text/plain": [
       "'this is My First Python programming class and i am learNING python string and its function'"
      ]
     },
     "execution_count": 3,
     "metadata": {},
     "output_type": "execute_result"
    }
   ],
   "source": [
    "s"
   ]
  },
  {
   "cell_type": "code",
   "execution_count": 8,
   "id": "3ce92fe3",
   "metadata": {},
   "outputs": [
    {
     "data": {
      "text/plain": [
       "'h   r tnrrmglsnimeNGyosi dtfco'"
      ]
     },
     "execution_count": 8,
     "metadata": {},
     "output_type": "execute_result"
    }
   ],
   "source": [
    "#1 . Try to extract data from index one to index 300 with a jump of 3 \n",
    "s[1:300:3]"
   ]
  },
  {
   "cell_type": "code",
   "execution_count": 9,
   "id": "a815b185",
   "metadata": {},
   "outputs": [
    {
     "data": {
      "text/plain": [
       "'noitcnuf sti dna gnirts nohtyp GNINrael ma i dna ssalc gnimmargorp nohtyP tsriF yM si siht'"
      ]
     },
     "execution_count": 9,
     "metadata": {},
     "output_type": "execute_result"
    }
   ],
   "source": [
    "#2. Try to reverse a string without using reverse function \n",
    "s[::-1]"
   ]
  },
  {
   "cell_type": "code",
   "execution_count": 11,
   "id": "d82d2737",
   "metadata": {},
   "outputs": [
    {
     "data": {
      "text/plain": [
       "'THIS IS MY FIRST PYTHON PROGRAMMING CLASS AND I AM LEARNING PYTHON STRING AND ITS FUNCTION'"
      ]
     },
     "execution_count": 11,
     "metadata": {},
     "output_type": "execute_result"
    }
   ],
   "source": [
    "#3. Try to split a string after conversion of entire string in uppercase \n",
    "s.upper()"
   ]
  },
  {
   "cell_type": "code",
   "execution_count": 16,
   "id": "577d6878",
   "metadata": {},
   "outputs": [
    {
     "data": {
      "text/plain": [
       "['this',\n",
       " 'is',\n",
       " 'My',\n",
       " 'First',\n",
       " 'Python',\n",
       " 'programming',\n",
       " 'class',\n",
       " 'and',\n",
       " 'i',\n",
       " 'am',\n",
       " 'learNING',\n",
       " 'python',\n",
       " 'string',\n",
       " 'and',\n",
       " 'its',\n",
       " 'function']"
      ]
     },
     "execution_count": 16,
     "metadata": {},
     "output_type": "execute_result"
    }
   ],
   "source": [
    "s.split()"
   ]
  },
  {
   "cell_type": "code",
   "execution_count": 18,
   "id": "e0c4cedb",
   "metadata": {},
   "outputs": [
    {
     "data": {
      "text/plain": [
       "'this is my first python programming class and i am learning python string and its function'"
      ]
     },
     "execution_count": 18,
     "metadata": {},
     "output_type": "execute_result"
    }
   ],
   "source": [
    "#4. try to convert the whole string into lower case \n",
    "s.lower()"
   ]
  },
  {
   "cell_type": "code",
   "execution_count": 20,
   "id": "7523a399",
   "metadata": {},
   "outputs": [
    {
     "data": {
      "text/plain": [
       "'This is my first python programming class and i am learning python string and its function'"
      ]
     },
     "execution_count": 20,
     "metadata": {},
     "output_type": "execute_result"
    }
   ],
   "source": [
    "#5 . Try to capitalize the whole string \n",
    "s.capitalize()"
   ]
  },
  {
   "cell_type": "code",
   "execution_count": 26,
   "id": "fd6f58a8",
   "metadata": {},
   "outputs": [
    {
     "data": {
      "text/plain": [
       "True"
      ]
     },
     "execution_count": 26,
     "metadata": {},
     "output_type": "execute_result"
    }
   ],
   "source": [
    "#6 . Write a diference between isalnum() and isalpha()\n",
    "s1 ='1234am' \n",
    "s1.isalnum()\n",
    "#isalnum means it can contain alphabets as well numericals"
   ]
  },
  {
   "cell_type": "code",
   "execution_count": 28,
   "id": "577bba74",
   "metadata": {},
   "outputs": [
    {
     "data": {
      "text/plain": [
       "True"
      ]
     },
     "execution_count": 28,
     "metadata": {},
     "output_type": "execute_result"
    }
   ],
   "source": [
    "s2='ALDEUBCNEI'\n",
    "s2.isalpha()\n",
    "#islapha means it must contain alphabtes only"
   ]
  },
  {
   "cell_type": "code",
   "execution_count": 34,
   "id": "190786a1",
   "metadata": {},
   "outputs": [
    {
     "data": {
      "text/plain": [
       "'malayali        pwoli   addaaa...!!!'"
      ]
     },
     "execution_count": 34,
     "metadata": {},
     "output_type": "execute_result"
    }
   ],
   "source": [
    "#7. Try to give an example of expand tab\n",
    "s3='malayali\\tpwoli\\taddaaa...!!!'\n",
    "s3.expandtabs()"
   ]
  },
  {
   "cell_type": "code",
   "execution_count": 38,
   "id": "3b616c2a",
   "metadata": {},
   "outputs": [
    {
     "data": {
      "text/plain": [
       "'raju   ramu   arjun'"
      ]
     },
     "execution_count": 38,
     "metadata": {},
     "output_type": "execute_result"
    }
   ],
   "source": [
    "#8 . Give an example of strip , lstrip and rstrip \n",
    "s4=\"   raju   ramu   arjun   \"\n",
    "s4.strip()"
   ]
  },
  {
   "cell_type": "code",
   "execution_count": 41,
   "id": "c5bd2b4f",
   "metadata": {},
   "outputs": [
    {
     "data": {
      "text/plain": [
       "'raju   ramu   arjun   '"
      ]
     },
     "execution_count": 41,
     "metadata": {},
     "output_type": "execute_result"
    }
   ],
   "source": [
    "#lstrip\n",
    "s4.lstrip()"
   ]
  },
  {
   "cell_type": "code",
   "execution_count": 43,
   "id": "3c94cf7e",
   "metadata": {},
   "outputs": [
    {
     "data": {
      "text/plain": [
       "'   raju   ramu   arjun'"
      ]
     },
     "execution_count": 43,
     "metadata": {},
     "output_type": "execute_result"
    }
   ],
   "source": [
    "#rstrip\n",
    "s4.rstrip()\n"
   ]
  },
  {
   "cell_type": "code",
   "execution_count": 52,
   "id": "6c09720a",
   "metadata": {},
   "outputs": [
    {
     "data": {
      "text/plain": [
       "'ram'"
      ]
     },
     "execution_count": 52,
     "metadata": {},
     "output_type": "execute_result"
    }
   ],
   "source": [
    "#9.  Replace a string charecter by another charector by taking your own example \n",
    "s5= \"ram\"\n",
    "s5"
   ]
  },
  {
   "cell_type": "code",
   "execution_count": 55,
   "id": "14584d34",
   "metadata": {},
   "outputs": [
    {
     "data": {
      "text/plain": [
       "'ramrajya'"
      ]
     },
     "execution_count": 55,
     "metadata": {},
     "output_type": "execute_result"
    }
   ],
   "source": [
    "s6= s5 + rajya\n",
    "s6"
   ]
  },
  {
   "cell_type": "code",
   "execution_count": 62,
   "id": "eb70bde3",
   "metadata": {},
   "outputs": [
    {
     "data": {
      "text/plain": [
       "'@@@@@@@@@@this is My First Python programming class and i am learNING python string and its function@@@@@@@@@@'"
      ]
     },
     "execution_count": 62,
     "metadata": {},
     "output_type": "execute_result"
    }
   ],
   "source": [
    "#10 . Try  to give a defination of string center function with and exmple \n",
    "s.center(110,'@')#this is the string placed in center with length defined"
   ]
  },
  {
   "cell_type": "code",
   "execution_count": 63,
   "id": "4b966171",
   "metadata": {},
   "outputs": [],
   "source": [
    "#11 . Write your own definition of compiler and interpretor without copy paste form internet in your own language\n",
    "Compiler makes the code compile and then run in program. interpreter does that process in one step . time varies for both."
   ]
  },
  {
   "cell_type": "code",
   "execution_count": 64,
   "id": "a18a0a47",
   "metadata": {},
   "outputs": [],
   "source": [
    "#12 . Python is a interpreted of compiled language give a clear ans with your understanding \n",
    "each line is checked and compiled in python, so it is said Python is a interpreted of compiled language.\n"
   ]
  },
  {
   "cell_type": "code",
   "execution_count": 3,
   "id": "70c660ab",
   "metadata": {},
   "outputs": [],
   "source": [
    "#13 . Try to write a usecase of python with your understanding .\n",
    "#Python is used for many purposes in string reversing also.\n",
    "#eg:\n",
    "s9=\"\"\"\"The Malayali people (Malayalam pronunciation: ​[mɐlɐjɐːɭi]) (also spelt Malayalee and also known by the demonym Keralite) are a Dravidian ethnolinguistic group originating from the present-day state of Kerala in India, occupying its southwestern Malabar coast. They are predominantly native speakers of the Malayalam language, one of the six Classical languages in India.[19] The state of Kerala was created in 1956 through the States Reorganisation Act. Prior to that, since the 1800s existed the Kingdom of Cochin, the Kingdom of Travancore, Malabar District, and South Canara of the British India. The Malabar District was annexed by the British through the Third Mysore War (1790–92) from Tipu Sultan. Before that, the Malabar District was under various kingdoms including the Zamorins of Calicut, Kingdom of Tanur, Arakkal kingdom, Kolathunadu, Valluvanad, and Palakkad Rajas.[20][21]\n",
    "\n",
    "According to the Indian census of 2011, there are approximately 33 million Malayalis in Kerala,[22] making up 97% of the total population of the state. Malayali minorities are also found in the neighboring state of Tamil Nadu, mainly in Kanyakumari district and Nilgiri district and Dakshina Kannada and Kodagu districts of Karnataka and also in other metropolitan areas of India. Over the course of the later half of the 20th century, significant Malayali communities have emerged in Persian Gulf countries, including the United Arab Emirates (UAE), Bahrain, Saudi Arabia, Oman, Qatar and Kuwait and to a lesser extent, other developed nations with a primarily immigrant background such as Malaysia, Singapore, the United States (US), the United Kingdom (UK), Australia, New Zealand and Canada. As of 2013, there were an estimated 1.6 million ethnic Malayali expatriates worldwide.[23] The estimated population of Malayalees in Malaysia in year 2020 is approximately 348,000, which makes up 12.5% of the total number of Indian population in Malaysia that makes them the second biggest Indian ethnic group in Malaysia, after the Tamils. Most of the Malayalee population in Malaysia aged 18 to 30 are known to be either the third, fourth, or fifth generation living as a Malaysian citizen. According to A. R. Raja Raja Varma, Malayalam was the name of the place, before it became the name of the language spoken by the people. \"\"\""
   ]
  },
  {
   "cell_type": "code",
   "execution_count": 15,
   "id": "903ba48f",
   "metadata": {},
   "outputs": [
    {
     "data": {
      "text/plain": [
       "' .elpoep eht yb nekops egaugnal eht fo eman eht emaceb ti erofeb ,ecalp eht fo eman eht saw malayalaM ,amraV ajaR ajaR .R .A ot gnidroccA .nezitic naisyalaM a sa gnivil noitareneg htfif ro ,htruof ,driht eht rehtie eb ot nwonk era 03 ot 81 dega aisyalaM ni noitalupop eelayalaM eht fo tsoM .slimaT eht retfa ,aisyalaM ni puorg cinhte naidnI tseggib dnoces eht meht sekam taht aisyalaM ni noitalupop naidnI fo rebmun latot eht fo %5.21 pu sekam hcihw ,000,843 yletamixorppa si 0202 raey ni aisyalaM ni seelayalaM fo noitalupop detamitse ehT ]32[.ediwdlrow setairtapxe ilayalaM cinhte noillim 6.1 detamitse na erew ereht ,3102 fo sA .adanaC dna dnalaeZ weN ,ailartsuA ,)KU( modgniK detinU eht ,)SU( setatS detinU eht ,eropagniS ,aisyalaM sa hcus dnuorgkcab tnargimmi yliramirp a htiw snoitan depoleved rehto ,tnetxe ressel a ot dna tiawuK dna rataQ ,namO ,aibarA iduaS ,niarhaB ,)EAU( setarimE barA detinU eht gnidulcni ,seirtnuoc fluG naisreP ni degreme evah seitinummoc ilayalaM tnacifingis ,yrutnec ht02 eht fo flah retal eht fo esruoc eht revO .aidnI fo saera natiloportem rehto ni osla dna akatanraK fo stcirtsid ugadoK dna adannaK anihskaD dna tcirtsid irigliN dna tcirtsid iramukaynaK ni ylniam ,udaN limaT fo etats gnirobhgien eht ni dnuof osla era seitironim ilayalaM .etats eht fo noitalupop latot eht fo %79 pu gnikam ]22[,alareK ni silayalaM noillim 33 yletamixorppa era ereht ,1102 fo susnec naidnI eht ot gnidroccA\\n\\n]12[]02[.sajaR dakkalaP dna ,danavullaV ,udanuhtaloK ,modgnik lakkarA ,runaT fo modgniK ,tucilaC fo sniromaZ eht gnidulcni smodgnik suoirav rednu saw tcirtsiD rabalaM eht ,taht erofeB .natluS upiT morf )29–0971( raW erosyM drihT eht hguorht hsitirB eht yb dexenna saw tcirtsiD rabalaM ehT .aidnI hsitirB eht fo aranaC htuoS dna ,tcirtsiD rabalaM ,erocnavarT fo modgniK eht ,nihcoC fo modgniK eht detsixe s0081 eht ecnis ,taht ot roirP .tcA noitasinagroeR setatS eht hguorht 6591 ni detaerc saw alareK fo etats ehT ]91[.aidnI ni segaugnal lacissalC xis eht fo eno ,egaugnal malayalaM eht fo srekaeps evitan yltnanimoderp era yehT .tsaoc rabalaM nretsewhtuos sti gniypucco ,aidnI ni alareK fo etats yad-tneserp eht morf gnitanigiro puorg citsiugnilonhte naidivarD a era )etilareK mynomed eht yb nwonk osla dna eelayalaM tleps osla( )]iɭːɐjɐlɐm[\\u200b :noitaicnunorp malayalaM( elpoep ilayalaM ehT\"'"
      ]
     },
     "execution_count": 15,
     "metadata": {},
     "output_type": "execute_result"
    }
   ],
   "source": [
    "''.join(reversed(s9))"
   ]
  },
  {
   "cell_type": "code",
   "execution_count": null,
   "id": "e53d9adf",
   "metadata": {},
   "outputs": [],
   "source": [
    "#Thank you"
   ]
  }
 ],
 "metadata": {
  "kernelspec": {
   "display_name": "Python 3 (ipykernel)",
   "language": "python",
   "name": "python3"
  },
  "language_info": {
   "codemirror_mode": {
    "name": "ipython",
    "version": 3
   },
   "file_extension": ".py",
   "mimetype": "text/x-python",
   "name": "python",
   "nbconvert_exporter": "python",
   "pygments_lexer": "ipython3",
   "version": "3.9.7"
  }
 },
 "nbformat": 4,
 "nbformat_minor": 5
}
