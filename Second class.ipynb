{
 "cells": [
  {
   "cell_type": "code",
   "execution_count": 1,
   "id": "25cbfc97",
   "metadata": {},
   "outputs": [],
   "source": [
    "s3= ' ineuron'"
   ]
  },
  {
   "cell_type": "code",
   "execution_count": 2,
   "id": "849628f4",
   "metadata": {},
   "outputs": [
    {
     "data": {
      "text/plain": [
       "'norueni '"
      ]
     },
     "execution_count": 2,
     "metadata": {},
     "output_type": "execute_result"
    }
   ],
   "source": [
    "s3[::-1]"
   ]
  },
  {
   "cell_type": "code",
   "execution_count": 3,
   "id": "3a70921e",
   "metadata": {},
   "outputs": [
    {
     "data": {
      "text/plain": [
       "''"
      ]
     },
     "execution_count": 3,
     "metadata": {},
     "output_type": "execute_result"
    }
   ],
   "source": [
    "s3[-2:-7:1]"
   ]
  },
  {
   "cell_type": "code",
   "execution_count": 6,
   "id": "93082769",
   "metadata": {},
   "outputs": [
    {
     "data": {
      "text/plain": [
       "''"
      ]
     },
     "execution_count": 6,
     "metadata": {},
     "output_type": "execute_result"
    }
   ],
   "source": [
    "s3[-2:1]"
   ]
  },
  {
   "cell_type": "code",
   "execution_count": 7,
   "id": "bf0885b5",
   "metadata": {},
   "outputs": [
    {
     "data": {
      "text/plain": [
       "'ineur'"
      ]
     },
     "execution_count": 7,
     "metadata": {},
     "output_type": "execute_result"
    }
   ],
   "source": [
    "s3[-7:-2:1]"
   ]
  },
  {
   "cell_type": "code",
   "execution_count": 8,
   "id": "e7828afe",
   "metadata": {},
   "outputs": [
    {
     "data": {
      "text/plain": [
       "'neuro'"
      ]
     },
     "execution_count": 8,
     "metadata": {},
     "output_type": "execute_result"
    }
   ],
   "source": [
    "s3[-6:-1]"
   ]
  },
  {
   "cell_type": "code",
   "execution_count": 9,
   "id": "097b7ac1",
   "metadata": {},
   "outputs": [
    {
     "data": {
      "text/plain": [
       "'n'"
      ]
     },
     "execution_count": 9,
     "metadata": {},
     "output_type": "execute_result"
    }
   ],
   "source": [
    "s3[-6:3]"
   ]
  },
  {
   "cell_type": "code",
   "execution_count": 10,
   "id": "69208134",
   "metadata": {},
   "outputs": [
    {
     "data": {
      "text/plain": [
       "''"
      ]
     },
     "execution_count": 10,
     "metadata": {},
     "output_type": "execute_result"
    }
   ],
   "source": [
    "s3[-7:0:1]"
   ]
  },
  {
   "cell_type": "code",
   "execution_count": 13,
   "id": "addc5471",
   "metadata": {},
   "outputs": [
    {
     "data": {
      "text/plain": [
       "''"
      ]
     },
     "execution_count": 13,
     "metadata": {},
     "output_type": "execute_result"
    }
   ],
   "source": [
    "s3[-7:0]"
   ]
  },
  {
   "cell_type": "code",
   "execution_count": 14,
   "id": "f86c4377",
   "metadata": {},
   "outputs": [],
   "source": [
    "s1='sudanshu'"
   ]
  },
  {
   "cell_type": "code",
   "execution_count": 16,
   "id": "3f8bbf37",
   "metadata": {},
   "outputs": [
    {
     "data": {
      "text/plain": [
       "'su'"
      ]
     },
     "execution_count": 16,
     "metadata": {},
     "output_type": "execute_result"
    }
   ],
   "source": [
    "s1[-8:2]"
   ]
  },
  {
   "cell_type": "code",
   "execution_count": 19,
   "id": "c78ba361",
   "metadata": {},
   "outputs": [
    {
     "data": {
      "text/plain": [
       "'sudanshu'"
      ]
     },
     "execution_count": 19,
     "metadata": {},
     "output_type": "execute_result"
    }
   ],
   "source": [
    "s1"
   ]
  },
  {
   "cell_type": "code",
   "execution_count": 20,
   "id": "4cb51db4",
   "metadata": {},
   "outputs": [
    {
     "data": {
      "text/plain": [
       "'sudanshu1'"
      ]
     },
     "execution_count": 20,
     "metadata": {},
     "output_type": "execute_result"
    }
   ],
   "source": [
    "s1+'1' "
   ]
  },
  {
   "cell_type": "code",
   "execution_count": 21,
   "id": "7f9b5b67",
   "metadata": {},
   "outputs": [
    {
     "data": {
      "text/plain": [
       "'sudanshu1'"
      ]
     },
     "execution_count": 21,
     "metadata": {},
     "output_type": "execute_result"
    }
   ],
   "source": [
    "s1+\"1\""
   ]
  },
  {
   "cell_type": "code",
   "execution_count": 22,
   "id": "35632f29",
   "metadata": {},
   "outputs": [
    {
     "data": {
      "text/plain": [
       "'sudanshu1'"
      ]
     },
     "execution_count": 22,
     "metadata": {},
     "output_type": "execute_result"
    }
   ],
   "source": [
    "s1+str(1)"
   ]
  },
  {
   "cell_type": "code",
   "execution_count": 23,
   "id": "bd1bb96e",
   "metadata": {},
   "outputs": [
    {
     "data": {
      "text/plain": [
       "'sudanshuamey'"
      ]
     },
     "execution_count": 23,
     "metadata": {},
     "output_type": "execute_result"
    }
   ],
   "source": [
    "s1+'amey'"
   ]
  },
  {
   "cell_type": "code",
   "execution_count": 25,
   "id": "62a252e0",
   "metadata": {},
   "outputs": [],
   "source": [
    "s2='Buddu + Mandoos'"
   ]
  },
  {
   "cell_type": "code",
   "execution_count": 26,
   "id": "70dd25e8",
   "metadata": {},
   "outputs": [
    {
     "data": {
      "text/plain": [
       "'Buddu + Mandoos'"
      ]
     },
     "execution_count": 26,
     "metadata": {},
     "output_type": "execute_result"
    }
   ],
   "source": [
    "s2 "
   ]
  },
  {
   "cell_type": "code",
   "execution_count": 27,
   "id": "c0bc7289",
   "metadata": {},
   "outputs": [
    {
     "data": {
      "text/plain": [
       "15"
      ]
     },
     "execution_count": 27,
     "metadata": {},
     "output_type": "execute_result"
    }
   ],
   "source": [
    "len(s2)"
   ]
  },
  {
   "cell_type": "code",
   "execution_count": 29,
   "id": "4f2dde78",
   "metadata": {},
   "outputs": [
    {
     "data": {
      "text/plain": [
       "8"
      ]
     },
     "execution_count": 29,
     "metadata": {},
     "output_type": "execute_result"
    }
   ],
   "source": [
    "len(s3)"
   ]
  },
  {
   "cell_type": "code",
   "execution_count": 30,
   "id": "fcd935f8",
   "metadata": {},
   "outputs": [
    {
     "data": {
      "text/plain": [
       "15"
      ]
     },
     "execution_count": 30,
     "metadata": {},
     "output_type": "execute_result"
    }
   ],
   "source": [
    "len(s2)"
   ]
  },
  {
   "cell_type": "code",
   "execution_count": 31,
   "id": "2028dcf7",
   "metadata": {},
   "outputs": [],
   "source": [
    "#hy Amey this is your first comment  \n",
    "Test =\"Passed\""
   ]
  },
  {
   "cell_type": "code",
   "execution_count": 32,
   "id": "d74ecc77",
   "metadata": {},
   "outputs": [
    {
     "data": {
      "text/plain": [
       "'Passed'"
      ]
     },
     "execution_count": 32,
     "metadata": {},
     "output_type": "execute_result"
    }
   ],
   "source": [
    "Test"
   ]
  },
  {
   "cell_type": "code",
   "execution_count": 41,
   "id": "bbc84358",
   "metadata": {},
   "outputs": [
    {
     "data": {
      "text/plain": [
       "6"
      ]
     },
     "execution_count": 41,
     "metadata": {},
     "output_type": "execute_result"
    }
   ],
   "source": [
    "len(Test)"
   ]
  },
  {
   "cell_type": "code",
   "execution_count": 44,
   "id": "b3ad8262",
   "metadata": {},
   "outputs": [
    {
     "data": {
      "text/plain": [
       "'raju \\nprint(ramu)\\nprint(kkkaall)'"
      ]
     },
     "execution_count": 44,
     "metadata": {},
     "output_type": "execute_result"
    }
   ],
   "source": [
    "\"\"\"raju \n",
    "print(ramu)\n",
    "print(kkkaall)\"\"\""
   ]
  },
  {
   "cell_type": "code",
   "execution_count": 45,
   "id": "14145ef1",
   "metadata": {},
   "outputs": [],
   "source": [
    "a=45\n",
    "b=56\n",
    "c=34"
   ]
  },
  {
   "cell_type": "code",
   "execution_count": 46,
   "id": "3da31202",
   "metadata": {},
   "outputs": [],
   "source": [
    "o=a+b/c"
   ]
  },
  {
   "cell_type": "code",
   "execution_count": 47,
   "id": "14e5e7d6",
   "metadata": {},
   "outputs": [
    {
     "data": {
      "text/plain": [
       "46.64705882352941"
      ]
     },
     "execution_count": 47,
     "metadata": {},
     "output_type": "execute_result"
    }
   ],
   "source": [
    "o"
   ]
  },
  {
   "cell_type": "code",
   "execution_count": 48,
   "id": "b0f637a1",
   "metadata": {},
   "outputs": [],
   "source": [
    "o1=o+78+6j"
   ]
  },
  {
   "cell_type": "code",
   "execution_count": 49,
   "id": "54de9777",
   "metadata": {},
   "outputs": [
    {
     "data": {
      "text/plain": [
       "(124.64705882352942+6j)"
      ]
     },
     "execution_count": 49,
     "metadata": {},
     "output_type": "execute_result"
    }
   ],
   "source": [
    "o1"
   ]
  },
  {
   "cell_type": "code",
   "execution_count": 50,
   "id": "e84ea210",
   "metadata": {},
   "outputs": [
    {
     "data": {
      "text/plain": [
       "'(124.64705882352942+6j)sudh'"
      ]
     },
     "execution_count": 50,
     "metadata": {},
     "output_type": "execute_result"
    }
   ],
   "source": [
    "str(o1)+\"sudh\""
   ]
  },
  {
   "cell_type": "code",
   "execution_count": null,
   "id": "c8830669",
   "metadata": {},
   "outputs": [],
   "source": [
    "  "
   ]
  }
 ],
 "metadata": {
  "kernelspec": {
   "display_name": "Python 3 (ipykernel)",
   "language": "python",
   "name": "python3"
  },
  "language_info": {
   "codemirror_mode": {
    "name": "ipython",
    "version": 3
   },
   "file_extension": ".py",
   "mimetype": "text/x-python",
   "name": "python",
   "nbconvert_exporter": "python",
   "pygments_lexer": "ipython3",
   "version": "3.9.7"
  }
 },
 "nbformat": 4,
 "nbformat_minor": 5
}
